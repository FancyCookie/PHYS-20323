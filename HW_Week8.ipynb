{
 "cells": [
  {
   "cell_type": "markdown",
   "metadata": {},
   "source": [
    "# PHYS 20323/60323 Homework Week 8\n",
    "\n",
    "FALL 2022\n"
   ]
  },
  {
   "cell_type": "markdown",
   "metadata": {},
   "source": [
    "### 1) Altitude of a satellite\n",
    "\n",
    "A satellite is to be launched into a circular orbit around the Earth so that it orbits the planet once every T seconds.\n",
    "\n",
    "The altitude h above the Earth’s surface that the satellite must have is:\n",
    "\n",
    "$$h = \\left( \\frac{G M T^2}{4\\pi^2} \\right)^{1/3} - R$$\n",
    "\n",
    "where $G = 6.67 \\times 10^{-11}$ m$^3$ kg$^{-1}$ s$^{-2}$\n",
    "is Newton's gravitational constant, $M = 5.97 \\times 10^{24}$ kg is the mass of the Earth, and $R = 6371$ km is its radius.\n",
    "\n",
    "#### Write a program that asks the user to enter the desired value of T and then calculates and prints out the correct altitude in meters.\n"
   ]
  },
  {
   "cell_type": "code",
   "execution_count": 3,
   "metadata": {},
   "outputs": [
    {
     "name": "stdout",
     "output_type": "stream",
     "text": [
      "T, in seconds, is 1\n",
      "-6349393.712891766\n"
     ]
    }
   ],
   "source": [
    "import numpy as np\n",
    "G = 6.67 * (10**-11)\n",
    "M = 5.97 * (10**24)\n",
    "R = (6371 * 1000)\n",
    "inputT = int(input(\"T, in seconds, is \"))\n",
    "h = (((G*M*(inputT**2))/(4*((np.pi)**2)))**((1/3)))-R\n",
    "print(h)"
   ]
  },
  {
   "cell_type": "markdown",
   "metadata": {},
   "source": [
    "1# Use your program to calculate the altitudes of satellites that orbit the Earth once\n",
    "a day (so-called “geosynchronous” orbit), once every 90 minutes, and once every\n",
    "45 minutes. What do you conclude from the last of these calculations?\n",
    "\n",
    "\n",
    "\n"
   ]
  },
  {
   "cell_type": "code",
   "execution_count": null,
   "metadata": {},
   "outputs": [],
   "source": [
    "#Look at making person input T themselves\n",
    "G = 6.67 * (10**-11)\n",
    "M = 5.97 * (10**24)\n",
    "R = (6371 * 1000)\n",
    "def Sat_Alt(T):\n",
    "    h = (((G*M*(T**2))/(4*((np.pi)**2)))**((1/3)))-R\n",
    "    return h\n",
    "\n",
    "print(Sat_Alt(86400))\n",
    "print(Sat_Alt(5400))\n",
    "print(Sat_Alt(2700))"
   ]
  },
  {
   "cell_type": "markdown",
   "metadata": {},
   "source": [
    "Technically a geosynchronous satellite is one that orbits the Earth once persidereal\n",
    "day, which is 23.93 hours, not 24 hours. Why is this? And how much difference\n",
    "will it make to the altitude of the satellite?"
   ]
  },
  {
   "cell_type": "code",
   "execution_count": 4,
   "metadata": {},
   "outputs": [
    {
     "name": "stdout",
     "output_type": "stream",
     "text": [
      "24 hour period is 35855910.17617497 meters\n",
      "23.93 hour period is 35773762.329895645 meters\n",
      "Difference of the two periods is 82147.8462793231 meters\n"
     ]
    }
   ],
   "source": [
    "#Look at making person input T themselves\n",
    "G = 6.67 * (10**-11)\n",
    "M = 5.97 * (10**24)\n",
    "R = (6371 * 1000)\n",
    "def Sat_Alt (T):\n",
    "    h = (((G*M*(T**2))/(4*((np.pi)**2)))**((1/3)))-R\n",
    "    return h\n",
    "\n",
    "print(\"24 hour period is \" + str(Sat_Alt(86400))+\" meters\")\n",
    "print(\"23.93 hour period is \" + str(Sat_Alt(86148))+\" meters\")\n",
    "print(\"Difference of the two periods is \" + str(Sat_Alt(86400)-Sat_Alt(86148))+\" meters\")"
   ]
  },
  {
   "cell_type": "markdown",
   "metadata": {},
   "source": [
    "### 2) Special Relativity\n",
    "\n",
    "A spaceship travels from Earth in a straight line at a (relativistic)\n",
    "speed $v$ to another planet $x$ light years away. Write a program to ask\n",
    "the user for the value of $x$ and the speed $v$ as a fraction of the speed\n",
    "of light, then print out the time in years that the spaceship takes to\n",
    "reach its destination (a) in the rest frame of an observer on Earth\n",
    "and (b) as perceived by a passenger on board the ship.\n",
    "\n",
    "$$x' = \\gamma (x - vt)$$\n",
    "\n",
    "$$t' = \\gamma \\left(t - \\frac{v x}{c^2}\\right)$$\n",
    "\n",
    "$$\\gamma = \\frac{1}{\\sqrt{1 - \\frac{v^2}{c^2}}}$$\n"
   ]
  },
  {
   "cell_type": "code",
   "execution_count": 4,
   "metadata": {},
   "outputs": [
    {
     "name": "stdout",
     "output_type": "stream",
     "text": [
      "x, in light years, is 10\n",
      "v, as a fraction of the speed of light, is .999\n",
      "Gamma is 22.36627204212937\n",
      "t' is 1.4928638646727941e-09\n",
      "x' is 0.0\n",
      "t is 3.338979931913434e-08\n"
     ]
    }
   ],
   "source": [
    "x = float(input(\"x, in light years, is \"))\n",
    "v = float(input(\"v, as a fraction of the speed of light, is \"))\n",
    "c = 299792458\n",
    "v= v * c\n",
    "Gamma = 1/((1-((v**2)/(c**2)))**(1/2))\n",
    "\n",
    "t= (x/v)\n",
    "t_prime = Gamma*(t-((v*x)/(c**2)))\n",
    "x_prime = Gamma*(x-(v*t))\n",
    "\n",
    "print(\"Gamma is \" +str(Gamma))\n",
    "print(\"t' is \" +str(t_prime))\n",
    "print(\"x' is \" +str(x_prime))\n",
    "print(\"t is \" + str(t))"
   ]
  },
  {
   "cell_type": "markdown",
   "metadata": {},
   "source": [
    "# Use your program to calculate the answers for a planet 10 light years away with $v = 0.90c$,  $v = 0.98c$, $v = 0.999c$."
   ]
  },
  {
   "cell_type": "code",
   "execution_count": 10,
   "metadata": {},
   "outputs": [
    {
     "name": "stdout",
     "output_type": "stream",
     "text": [
      "x, in light years, is 10\n",
      "v, as a fraction of the speed of light, is .999\n",
      "Gamma is 22.36627204212937\n",
      "t' is 1.4928638646727941e-09\n",
      "x' is 0.0\n",
      "t is 3.338979931913434e-08\n"
     ]
    }
   ],
   "source": [
    "# Hey you need to check if your answers are correct\n",
    "x = float(input(\"x, in light years, is \"))\n",
    "c = 299792458\n",
    "v = float(input(\"v, as a fraction of the speed of light, is \"))\n",
    "v = v * c\n",
    "Gamma = 1/((1-((v**2)/(c**2)))**(1/2))\n",
    "\n",
    "t= x/v\n",
    "t_prime = Gamma*(t-(((v)*x)/(c**2)))\n",
    "x_prime = Gamma*(x-((v)*t))\n",
    "\n",
    "print(\"Gamma is \" +str(Gamma))\n",
    "print(\"t' is \" +str(t_prime))\n",
    "print(\"x' is \" +str(x_prime))\n",
    "print(\"t is \" +str(t))"
   ]
  },
  {
   "cell_type": "code",
   "execution_count": null,
   "metadata": {},
   "outputs": [],
   "source": [
    "# Answers for x in 10 light years\n",
    "\n",
    "# input v = .9c, get t' is 1.6155246468470286e-08\n",
    "# input v = .98c, get t' is 6.773307840653051e-09\n",
    "# input v = .999c, get t' is 1.4928638646727941e-09"
   ]
  },
  {
   "cell_type": "markdown",
   "metadata": {},
   "source": [
    "### 3) The quadratic equation\n",
    "\n",
    " Write a program that takes as input three numbers, $a$, $b$, and $c$, and prints out the two solutions to the quadratic equation $ax^2 + bx + c = 0$ using the standard\n",
    "formula:\n",
    "\n",
    "$$x = \\frac{-b \\pm \\sqrt{b^2 - 4ac}}{2a}$$\n",
    "\n",
    "Use your program to compute the solutions of $0.001x^2 + 1000x + 0.001 = 0$."
   ]
  },
  {
   "cell_type": "code",
   "execution_count": 5,
   "metadata": {},
   "outputs": [
    {
     "name": "stdout",
     "output_type": "stream",
     "text": [
      "a is 0.001\n",
      "b is 1000\n",
      "c is 0.001\n"
     ]
    },
    {
     "data": {
      "text/plain": [
       "(-9.999894245993346e-07, -999999.999999)"
      ]
     },
     "execution_count": 5,
     "metadata": {},
     "output_type": "execute_result"
    }
   ],
   "source": [
    "a= float(input(\"a is \"))\n",
    "b= float(input(\"b is \"))\n",
    "c= float(input(\"c is \"))\n",
    "\n",
    "def Quad1():\n",
    "    r1 = ((-1*b) + (((b**2)-(4*a*c))**(1/2)))/(2*a)\n",
    "    r2 = ((-1*b) - (((b**2)-(4*a*c))**(1/2)))/(2*a)\n",
    "    return(r1,r2)\n",
    "\n",
    "Quad1()"
   ]
  },
  {
   "cell_type": "markdown",
   "metadata": {},
   "source": [
    "# There is another way to write the solutions to a quadratic equation. Multiplying top and bottom of the solution above by $-b \\mp \\sqrt{b^2 - 4ac}$, show that the solutions\n",
    "can also be written as:\n",
    "\n",
    "$$x = \\frac{2c}{-b \\mp \\sqrt{b^2 - 4ac}}$$\n",
    "\n",
    "Add further lines to your program to print these values in addition to the earlier ones and again use the program to solve $0.001x^2 + 1000x + 0.001 = 0$. What do you see? How do you explain it?"
   ]
  },
  {
   "cell_type": "code",
   "execution_count": 5,
   "metadata": {},
   "outputs": [
    {
     "name": "stdout",
     "output_type": "stream",
     "text": [
      "a is 0.001\n",
      "b is 1000\n",
      "c is 0.001\n"
     ]
    },
    {
     "data": {
      "text/plain": [
       "(-1.000000000001e-06, -1000010.5755125057)"
      ]
     },
     "execution_count": 5,
     "metadata": {},
     "output_type": "execute_result"
    }
   ],
   "source": [
    "a= float(input(\"a is \"))\n",
    "b= float(input(\"b is \"))\n",
    "c= float(input(\"c is \"))\n",
    "    \n",
    "def Quad2():\n",
    "    r1 = (2*c)/((-1*b) - (((b**2)-(4*a*c))**(1/2)))\n",
    "    r2 = (2*c)/((-1*b) + (((b**2)-(4*a*c))**(1/2)))\n",
    "    return(r1,r2)\n",
    "Quad2()"
   ]
  },
  {
   "cell_type": "markdown",
   "metadata": {},
   "source": [
    "Using what you have learned, write a new program that calculates both roots of a quadratic equation accurately in all cases."
   ]
  },
  {
   "cell_type": "code",
   "execution_count": 6,
   "metadata": {},
   "outputs": [
    {
     "name": "stdout",
     "output_type": "stream",
     "text": [
      "a is 0.001\n",
      "b is 1000\n",
      "c is 0.001\n",
      "The discriminant is 999.999999998\n",
      "(-9.999894245993346e-07, -999999.999999)\n",
      "(-1.000000000001e-06, -1000010.5755125057)\n",
      "The roots of the function are -9.999894245993346e-07 and -1000010.5755125057\n",
      "-9.999894245993346e-07 -1000010.5755125057\n"
     ]
    }
   ],
   "source": [
    "a= float(input(\"a is \"))\n",
    "b= float(input(\"b is \"))\n",
    "c= float(input(\"c is \"))\n",
    "d = (((b**2)-(4*a*c))**(1/2))\n",
    "print(\"The discriminant is \" + str(d))\n",
    "def Quad1():\n",
    "    r1 = ((-1*b) + (((b**2)-(4*a*c))**(1/2)))/(2*a)\n",
    "    r2 = ((-1*b) - (((b**2)-(4*a*c))**(1/2)))/(2*a)\n",
    "    return (r1,r2)\n",
    "\n",
    "def Quad2():\n",
    "    r1 = (2*c)/((-1*b) - (((b**2)-(4*a*c))**(1/2)))\n",
    "    r2 = (2*c)/((-1*b) + (((b**2)-(4*a*c))**(1/2)))\n",
    "    return (r1,r2)\n",
    "\n",
    "print(Quad1())\n",
    "print(Quad2())\n",
    "\n",
    "# Roots of the function are like -1million and 0; which answers are the correct ones?\n",
    "\n",
    "j,k = Quad1()\n",
    "m,n = Quad2()\n",
    "\n",
    "# check if the logic here is right for picking the correct roots\n",
    "print(\"The roots of the function are \" + str(j) + \" and \" + str(n))\n",
    "\n",
    "# I chose the j and n roots as I presume the subtraction causes precision errors meanwhile the addition doesn't.\n",
    "# Is there logic to be done here? If I knew the true value I could do |true - root| and take the lower number.\n",
    "# I didn't do that though as I presume we wouldn't know what the true value is. Hence taking the j and n roots.\n",
    "print(j,n)\n"
   ]
  },
  {
   "cell_type": "code",
   "execution_count": null,
   "metadata": {},
   "outputs": [],
   "source": []
  }
 ],
 "metadata": {
  "kernelspec": {
   "display_name": "Python 3 (ipykernel)",
   "language": "python",
   "name": "python3"
  },
  "language_info": {
   "codemirror_mode": {
    "name": "ipython",
    "version": 3
   },
   "file_extension": ".py",
   "mimetype": "text/x-python",
   "name": "python",
   "nbconvert_exporter": "python",
   "pygments_lexer": "ipython3",
   "version": "3.9.12"
  }
 },
 "nbformat": 4,
 "nbformat_minor": 4
}
